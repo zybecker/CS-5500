{
 "cells": [
  {
   "cell_type": "code",
   "execution_count": 2,
   "metadata": {},
   "outputs": [],
   "source": [
    "import pandas as pd\n",
    "import numpy as np\n",
    "import matplotlib.pyplot as plt\n",
    "import dask.dataframe as dd\n",
    "import tqdm"
   ]
  },
  {
   "cell_type": "code",
   "execution_count": 3,
   "metadata": {},
   "outputs": [],
   "source": [
    "def delete_unique_at_bats(df, ind):\n",
    "    # For a given index, delete all pitches that share game date, at bat, and home team with that row\n",
    "    # So, in essence, delete all rows from that one at-bat\n",
    "\n",
    "    # Get game date, at bat number, and home team from this index as a list\n",
    "    at_bat_info = df.loc[ind][['game_date', 'at_bat_number', 'home_team']].values.tolist()\n",
    "\n",
    "    if isinstance(ind, (list, pd.core.indexes.base.Index, np.ndarray)):  # mulitple indices to delete\n",
    "        # Create a mask to match the rows\n",
    "        mask = df.apply(lambda row: [row['game_date'], row['at_bat_number'], row['home_team']] in at_bat_info, axis=1)\n",
    "        # Get indices here\n",
    "        all_inds = mask.index[mask]\n",
    "    else:   # single index\n",
    "        # Get indices of rows with these values\n",
    "        all_inds = df[(df['game_date'] == at_bat_info[0]) & (df['at_bat_number'] == at_bat_info[1]) & (df['home_team'] == at_bat_info[2])].index\n",
    "    \n",
    "    # Delete these indices\n",
    "    df_cleaned = df.drop(index=all_inds, inplace=False)\n",
    "\n",
    "    return df_cleaned"
   ]
  },
  {
   "attachments": {},
   "cell_type": "markdown",
   "metadata": {},
   "source": [
    "## Load data\n",
    "Load the datafrom CSV - 2024 data only. Of course, make sure that you have the full 2024 data csv in your local directory."
   ]
  },
  {
   "cell_type": "code",
   "execution_count": 4,
   "metadata": {},
   "outputs": [],
   "source": [
    "statcast_2024 = pd.read_csv('statcast_2024.csv')\n",
    "pitch_clusters = pd.read_csv(\"pitch_clusters.csv\")"
   ]
  },
  {
   "attachments": {},
   "cell_type": "markdown",
   "metadata": {},
   "source": [
    "## Basic Filtering"
   ]
  },
  {
   "cell_type": "code",
   "execution_count": 5,
   "metadata": {},
   "outputs": [],
   "source": [
    "# Regular season games only\n",
    "statcast_df = statcast_2024[statcast_2024['game_type'] == 'R']\n",
    "\n",
    "# Score difference < 6\n",
    "statcast_df = statcast_df[abs(statcast_df['home_score_diff']) < 6]\n",
    "\n",
    "# Identify pitchers with < 3 appearances\n",
    "pitcher_appearances = statcast_df.groupby(['pitcher', 'game_date']).size()\n",
    "pitcher_games = pitcher_appearances.groupby('pitcher').size()\n",
    "pitchers_with_few_games = pitcher_games[pitcher_games < 3].index\n",
    "# Filter out those pitchers\n",
    "statcast_df = statcast_df[~statcast_df['pitcher'].isin(pitchers_with_few_games)]"
   ]
  },
  {
   "cell_type": "code",
   "execution_count": 6,
   "metadata": {},
   "outputs": [
    {
     "name": "stderr",
     "output_type": "stream",
     "text": [
      "/var/folders/s0/8ys2gvm954l0zln605l0tpwr0000gn/T/ipykernel_3936/4027873161.py:2: FutureWarning: Downcasting behavior in `replace` is deprecated and will be removed in a future version. To retain the old behavior, explicitly call `result.infer_objects(copy=False)`. To opt-in to the future behavior, set `pd.set_option('future.no_silent_downcasting', True)`\n",
      "  statcast_df['stand'] = statcast_df['stand'].replace({'L': 0, 'R': 1})\n",
      "/var/folders/s0/8ys2gvm954l0zln605l0tpwr0000gn/T/ipykernel_3936/4027873161.py:3: FutureWarning: Downcasting behavior in `replace` is deprecated and will be removed in a future version. To retain the old behavior, explicitly call `result.infer_objects(copy=False)`. To opt-in to the future behavior, set `pd.set_option('future.no_silent_downcasting', True)`\n",
      "  statcast_df['p_throws'] = statcast_df['p_throws'].replace({'L': 0, 'R': 1})\n"
     ]
    }
   ],
   "source": [
    "# Binary encoding (batter and pitcher handedness)\n",
    "statcast_df['stand'] = statcast_df['stand'].replace({'L': 0, 'R': 1})\n",
    "statcast_df['p_throws'] = statcast_df['p_throws'].replace({'L': 0, 'R': 1})"
   ]
  },
  {
   "attachments": {},
   "cell_type": "markdown",
   "metadata": {},
   "source": [
    "#pitch_profile = ['pitch_type', 'vx0', 'vy0', 'vz0', 'release_spin_rate', 'spin_axis', 'pfx_x', 'pfx_z', 'release_extension', 'release_pos_y']\n",
    "#pitch_sequencing = ['pitch_number', 'pitch_type', 'balls', 'strikes', 'stand', 'p_throws']\n",
    "#hitter_fields = ['launch_speed', 'launch_angle', 'plate_x', 'plate_z', 'sz_top', 'sz_bot']"
   ]
  },
  {
   "attachments": {},
   "cell_type": "markdown",
   "metadata": {},
   "source": [
    "Attribution: Zach B."
   ]
  },
  {
   "cell_type": "code",
   "execution_count": 7,
   "metadata": {},
   "outputs": [],
   "source": [
    "columns = [\n",
    "    \"pitch_type\", \"release_speed\", \"release_pos_x\", \"release_pos_z\", \"batter\", \"pitcher\", \"events\", \"description\", \"zone\", \"des\",\n",
    "    \"game_type\", \"stand\", \"p_throws\", \"type\", \"balls\", \"strikes\", \"pfx_x\", \"pfx_z\", \"plate_x\", \"plate_z\", \"on_3b\", \"on_2b\", \"on_1b\",\n",
    "    \"hc_x\", \"hc_y\", \"sv_id\", \"vx0\", \"vy0\", \"vz0\", \"ax\", \"ay\", \"az\", \"sz_top\", \"sz_bot\", \"hit_distance_sc\", \"launch_speed\",\n",
    "    \"launch_angle\", \"effective_speed\", \"release_spin_rate\", \"release_extension\", \"game_pk\", \"release_pos_y\",\n",
    "    \"estimated_woba_using_speedangle\", \"launch_speed_angle\", \"at_bat_number\", \"pitch_number\", \"pitch_name\", \"home_score\",\n",
    "    \"away_score\", \"spin_axis\", \"delta_home_win_exp\", \"delta_run_exp\", \"bat_speed\", \"swing_length\",\n",
    "    \"estimated_slg_using_speedangle\", \"delta_pitcher_run_exp\", \"bat_win_exp\", \"n_thruorder_pitcher\",\n",
    "    \"n_priorpa_thisgame_player_at_bat\", \"arm_angle\",\n",
    "    'game_date', 'home_team']\n",
    "\n",
    "statcast_df = statcast_df[columns]"
   ]
  },
  {
   "attachments": {},
   "cell_type": "markdown",
   "metadata": {},
   "source": [
    "### More stuff"
   ]
  },
  {
   "cell_type": "code",
   "execution_count": 8,
   "metadata": {},
   "outputs": [],
   "source": [
    "# Add pitch cluster data\n",
    "pitch_clusters_long = pitch_clusters.melt(id_vars=['pitcher'], var_name='pitch_type', value_name='cluster_label')\n",
    "pitch_clusters_long = pitch_clusters_long[pitch_clusters_long['cluster_label'] != -1]\n",
    "pitch_data = statcast_df.merge(pitch_clusters_long, on=['pitcher', 'pitch_type'], how='left')"
   ]
  },
  {
   "cell_type": "code",
   "execution_count": 9,
   "metadata": {},
   "outputs": [
    {
     "name": "stdout",
     "output_type": "stream",
     "text": [
      "(641074, 66)\n"
     ]
    }
   ],
   "source": [
    "# Add zone data\n",
    "x_bins = np.linspace(-2, 2, num=3)  #Binning plate_x from -2 to 2 into 4 bins\n",
    "z_bins = np.linspace(0, 4, num=3)   #Binning plate_z from 0 to 4 into 4 bins\n",
    "\n",
    "# Assign pitches to zones based on plate_x and plate_z\n",
    "pitch_data['zone_x'] = np.digitize(pitch_data['plate_x'], bins=x_bins, right=False)\n",
    "pitch_data['zone_z'] = np.digitize(pitch_data['plate_z'], bins=z_bins, right=False)\n",
    "\n",
    "#single zone identifier\n",
    "pitch_data['zone'] = pitch_data['zone_x'].astype(str) + '-' + pitch_data['zone_z'].astype(str)\n",
    "zone_xwoba = pitch_data.groupby(['batter', 'pitch_type', 'zone'])['estimated_woba_using_speedangle'].mean().reset_index()\n",
    "\n",
    "pitch_data = pitch_data.merge(zone_xwoba, on=['batter', 'pitch_type', 'zone'], suffixes=('', '_zone_avg'))\n",
    "print(pitch_data.shape)"
   ]
  },
  {
   "attachments": {},
   "cell_type": "markdown",
   "metadata": {},
   "source": [
    "## NA removal"
   ]
  },
  {
   "attachments": {},
   "cell_type": "markdown",
   "metadata": {},
   "source": [
    "Get unique values of game date and at bat and delete rows with na values for select columns"
   ]
  },
  {
   "cell_type": "code",
   "execution_count": 10,
   "metadata": {},
   "outputs": [
    {
     "name": "stdout",
     "output_type": "stream",
     "text": [
      "(636392, 66)\n",
      "pitch_type                                      0\n",
      "release_speed                                   0\n",
      "release_pos_x                                   0\n",
      "release_pos_z                                   0\n",
      "batter                                          0\n",
      "                                            ...  \n",
      "home_team                                       0\n",
      "cluster_label                                3674\n",
      "zone_x                                          0\n",
      "zone_z                                          0\n",
      "estimated_woba_using_speedangle_zone_avg    32859\n",
      "Length: 66, dtype: int64\n"
     ]
    }
   ],
   "source": [
    "# Get indices of na values for select columns\n",
    "nas = pitch_data[pitch_data[['pitch_type', 'release_speed', 'spin_axis', 'release_extension', 'effective_speed']].isna().any(axis=1)].index\n",
    "\n",
    "# Clean dataset of these na values\n",
    "pitch_data_cleaned = delete_unique_at_bats(pitch_data, nas)\n",
    "print(pitch_data_cleaned.shape)\n",
    "print(pitch_data_cleaned.isna().sum())"
   ]
  },
  {
   "attachments": {},
   "cell_type": "markdown",
   "metadata": {},
   "source": [
    "### Group into unique at bats\n",
    "Trying to group unique at bats. Grouped by gate date, at bat number, and home team"
   ]
  },
  {
   "cell_type": "code",
   "execution_count": 11,
   "metadata": {},
   "outputs": [],
   "source": [
    "# Filter down to just the relevant columns (features + target)\n",
    "cols = ['release_speed', 'release_pos_x', 'release_pos_z', 'pfx_x', 'pfx_z', 'plate_x', 'plate_z', 'spin_axis',\n",
    "            'release_extension', 'estimated_woba_using_speedangle_zone_avg', 'cluster_label', 'n_thruorder_pitcher',\n",
    "            'game_date', 'at_bat_number', 'home_team', 'estimated_woba_using_speedangle', 'description', 'launch_angle']\n",
    "\n",
    "pitch_data_cleaned_filtered = pitch_data_cleaned[cols]"
   ]
  },
  {
   "cell_type": "code",
   "execution_count": 12,
   "metadata": {},
   "outputs": [
    {
     "data": {
      "text/html": [
       "<div>\n",
       "<style scoped>\n",
       "    .dataframe tbody tr th:only-of-type {\n",
       "        vertical-align: middle;\n",
       "    }\n",
       "\n",
       "    .dataframe tbody tr th {\n",
       "        vertical-align: top;\n",
       "    }\n",
       "\n",
       "    .dataframe thead th {\n",
       "        text-align: right;\n",
       "    }\n",
       "</style>\n",
       "<table border=\"1\" class=\"dataframe\">\n",
       "  <thead>\n",
       "    <tr style=\"text-align: right;\">\n",
       "      <th></th>\n",
       "      <th></th>\n",
       "      <th></th>\n",
       "      <th>release_speed</th>\n",
       "      <th>release_pos_x</th>\n",
       "      <th>release_pos_z</th>\n",
       "      <th>pfx_x</th>\n",
       "      <th>pfx_z</th>\n",
       "      <th>plate_x</th>\n",
       "      <th>plate_z</th>\n",
       "      <th>spin_axis</th>\n",
       "      <th>release_extension</th>\n",
       "      <th>estimated_woba_using_speedangle_zone_avg</th>\n",
       "      <th>cluster_label</th>\n",
       "      <th>n_thruorder_pitcher</th>\n",
       "      <th>estimated_woba_using_speedangle</th>\n",
       "      <th>description</th>\n",
       "      <th>launch_angle</th>\n",
       "    </tr>\n",
       "    <tr>\n",
       "      <th>game_date</th>\n",
       "      <th>at_bat_number</th>\n",
       "      <th>home_team</th>\n",
       "      <th></th>\n",
       "      <th></th>\n",
       "      <th></th>\n",
       "      <th></th>\n",
       "      <th></th>\n",
       "      <th></th>\n",
       "      <th></th>\n",
       "      <th></th>\n",
       "      <th></th>\n",
       "      <th></th>\n",
       "      <th></th>\n",
       "      <th></th>\n",
       "      <th></th>\n",
       "      <th></th>\n",
       "      <th></th>\n",
       "    </tr>\n",
       "  </thead>\n",
       "  <tbody>\n",
       "    <tr>\n",
       "      <th rowspan=\"5\" valign=\"top\">2024-03-20</th>\n",
       "      <th>2</th>\n",
       "      <th>SD</th>\n",
       "      <td>91.1</td>\n",
       "      <td>-2.05</td>\n",
       "      <td>5.58</td>\n",
       "      <td>-1.33</td>\n",
       "      <td>0.22</td>\n",
       "      <td>-0.80</td>\n",
       "      <td>2.82</td>\n",
       "      <td>264.0</td>\n",
       "      <td>5.8</td>\n",
       "      <td>0.590800</td>\n",
       "      <td>1.0</td>\n",
       "      <td>1</td>\n",
       "      <td>0.059</td>\n",
       "      <td>hit_into_play</td>\n",
       "      <td>-13.0</td>\n",
       "    </tr>\n",
       "    <tr>\n",
       "      <th>3</th>\n",
       "      <th>SD</th>\n",
       "      <td>95.4</td>\n",
       "      <td>-2.11</td>\n",
       "      <td>5.61</td>\n",
       "      <td>-1.51</td>\n",
       "      <td>0.56</td>\n",
       "      <td>0.33</td>\n",
       "      <td>2.22</td>\n",
       "      <td>253.0</td>\n",
       "      <td>6.0</td>\n",
       "      <td>0.259087</td>\n",
       "      <td>1.0</td>\n",
       "      <td>1</td>\n",
       "      <td>0.000</td>\n",
       "      <td>called_strike</td>\n",
       "      <td>NaN</td>\n",
       "    </tr>\n",
       "    <tr>\n",
       "      <th>4</th>\n",
       "      <th>SD</th>\n",
       "      <td>94.5</td>\n",
       "      <td>-1.91</td>\n",
       "      <td>5.67</td>\n",
       "      <td>-0.35</td>\n",
       "      <td>1.62</td>\n",
       "      <td>-0.07</td>\n",
       "      <td>2.37</td>\n",
       "      <td>193.0</td>\n",
       "      <td>6.2</td>\n",
       "      <td>0.334046</td>\n",
       "      <td>0.0</td>\n",
       "      <td>1</td>\n",
       "      <td>0.034</td>\n",
       "      <td>hit_into_play</td>\n",
       "      <td>33.0</td>\n",
       "    </tr>\n",
       "    <tr>\n",
       "      <th>5</th>\n",
       "      <th>SD</th>\n",
       "      <td>96.9</td>\n",
       "      <td>-1.74</td>\n",
       "      <td>6.05</td>\n",
       "      <td>-0.03</td>\n",
       "      <td>1.56</td>\n",
       "      <td>-0.28</td>\n",
       "      <td>2.66</td>\n",
       "      <td>181.0</td>\n",
       "      <td>8.0</td>\n",
       "      <td>0.264861</td>\n",
       "      <td>0.0</td>\n",
       "      <td>1</td>\n",
       "      <td>0.008</td>\n",
       "      <td>hit_into_play</td>\n",
       "      <td>60.0</td>\n",
       "    </tr>\n",
       "    <tr>\n",
       "      <th>6</th>\n",
       "      <th>SD</th>\n",
       "      <td>96.6</td>\n",
       "      <td>-1.69</td>\n",
       "      <td>6.17</td>\n",
       "      <td>-0.02</td>\n",
       "      <td>1.30</td>\n",
       "      <td>-0.03</td>\n",
       "      <td>3.69</td>\n",
       "      <td>181.0</td>\n",
       "      <td>7.4</td>\n",
       "      <td>0.504430</td>\n",
       "      <td>0.0</td>\n",
       "      <td>1</td>\n",
       "      <td>0.092</td>\n",
       "      <td>hit_into_play</td>\n",
       "      <td>-31.0</td>\n",
       "    </tr>\n",
       "    <tr>\n",
       "      <th>...</th>\n",
       "      <th>...</th>\n",
       "      <th>...</th>\n",
       "      <td>...</td>\n",
       "      <td>...</td>\n",
       "      <td>...</td>\n",
       "      <td>...</td>\n",
       "      <td>...</td>\n",
       "      <td>...</td>\n",
       "      <td>...</td>\n",
       "      <td>...</td>\n",
       "      <td>...</td>\n",
       "      <td>...</td>\n",
       "      <td>...</td>\n",
       "      <td>...</td>\n",
       "      <td>...</td>\n",
       "      <td>...</td>\n",
       "      <td>...</td>\n",
       "    </tr>\n",
       "    <tr>\n",
       "      <th rowspan=\"5\" valign=\"top\">2024-09-30</th>\n",
       "      <th>78</th>\n",
       "      <th>ATL</th>\n",
       "      <td>86.2</td>\n",
       "      <td>-2.08</td>\n",
       "      <td>5.95</td>\n",
       "      <td>0.58</td>\n",
       "      <td>-0.51</td>\n",
       "      <td>0.54</td>\n",
       "      <td>0.75</td>\n",
       "      <td>45.0</td>\n",
       "      <td>5.9</td>\n",
       "      <td>0.000000</td>\n",
       "      <td>2.0</td>\n",
       "      <td>1</td>\n",
       "      <td>0.000</td>\n",
       "      <td>swinging_strike_blocked</td>\n",
       "      <td>54.0</td>\n",
       "    </tr>\n",
       "    <tr>\n",
       "      <th>79</th>\n",
       "      <th>ATL</th>\n",
       "      <td>94.2</td>\n",
       "      <td>-2.16</td>\n",
       "      <td>4.93</td>\n",
       "      <td>-1.11</td>\n",
       "      <td>1.20</td>\n",
       "      <td>0.84</td>\n",
       "      <td>2.93</td>\n",
       "      <td>233.0</td>\n",
       "      <td>7.5</td>\n",
       "      <td>0.335208</td>\n",
       "      <td>0.0</td>\n",
       "      <td>1</td>\n",
       "      <td>0.039</td>\n",
       "      <td>hit_into_play</td>\n",
       "      <td>58.0</td>\n",
       "    </tr>\n",
       "    <tr>\n",
       "      <th>80</th>\n",
       "      <th>ATL</th>\n",
       "      <td>90.4</td>\n",
       "      <td>-2.16</td>\n",
       "      <td>5.12</td>\n",
       "      <td>0.18</td>\n",
       "      <td>0.47</td>\n",
       "      <td>0.53</td>\n",
       "      <td>1.73</td>\n",
       "      <td>215.0</td>\n",
       "      <td>7.2</td>\n",
       "      <td>0.878000</td>\n",
       "      <td>0.0</td>\n",
       "      <td>1</td>\n",
       "      <td>0.878</td>\n",
       "      <td>hit_into_play</td>\n",
       "      <td>21.0</td>\n",
       "    </tr>\n",
       "    <tr>\n",
       "      <th>81</th>\n",
       "      <th>ATL</th>\n",
       "      <td>91.0</td>\n",
       "      <td>-2.00</td>\n",
       "      <td>5.21</td>\n",
       "      <td>0.26</td>\n",
       "      <td>0.62</td>\n",
       "      <td>1.25</td>\n",
       "      <td>2.22</td>\n",
       "      <td>204.0</td>\n",
       "      <td>7.4</td>\n",
       "      <td>0.158533</td>\n",
       "      <td>0.0</td>\n",
       "      <td>1</td>\n",
       "      <td>0.000</td>\n",
       "      <td>swinging_strike</td>\n",
       "      <td>-23.0</td>\n",
       "    </tr>\n",
       "    <tr>\n",
       "      <th>82</th>\n",
       "      <th>ATL</th>\n",
       "      <td>97.4</td>\n",
       "      <td>-2.10</td>\n",
       "      <td>4.88</td>\n",
       "      <td>-0.96</td>\n",
       "      <td>0.99</td>\n",
       "      <td>0.67</td>\n",
       "      <td>3.00</td>\n",
       "      <td>232.0</td>\n",
       "      <td>7.6</td>\n",
       "      <td>0.338163</td>\n",
       "      <td>0.0</td>\n",
       "      <td>1</td>\n",
       "      <td>0.052</td>\n",
       "      <td>hit_into_play</td>\n",
       "      <td>-30.0</td>\n",
       "    </tr>\n",
       "  </tbody>\n",
       "</table>\n",
       "<p>161846 rows × 15 columns</p>\n",
       "</div>"
      ],
      "text/plain": [
       "                                    release_speed  release_pos_x  \\\n",
       "game_date  at_bat_number home_team                                 \n",
       "2024-03-20 2             SD                  91.1          -2.05   \n",
       "           3             SD                  95.4          -2.11   \n",
       "           4             SD                  94.5          -1.91   \n",
       "           5             SD                  96.9          -1.74   \n",
       "           6             SD                  96.6          -1.69   \n",
       "...                                           ...            ...   \n",
       "2024-09-30 78            ATL                 86.2          -2.08   \n",
       "           79            ATL                 94.2          -2.16   \n",
       "           80            ATL                 90.4          -2.16   \n",
       "           81            ATL                 91.0          -2.00   \n",
       "           82            ATL                 97.4          -2.10   \n",
       "\n",
       "                                    release_pos_z  pfx_x  pfx_z  plate_x  \\\n",
       "game_date  at_bat_number home_team                                         \n",
       "2024-03-20 2             SD                  5.58  -1.33   0.22    -0.80   \n",
       "           3             SD                  5.61  -1.51   0.56     0.33   \n",
       "           4             SD                  5.67  -0.35   1.62    -0.07   \n",
       "           5             SD                  6.05  -0.03   1.56    -0.28   \n",
       "           6             SD                  6.17  -0.02   1.30    -0.03   \n",
       "...                                           ...    ...    ...      ...   \n",
       "2024-09-30 78            ATL                 5.95   0.58  -0.51     0.54   \n",
       "           79            ATL                 4.93  -1.11   1.20     0.84   \n",
       "           80            ATL                 5.12   0.18   0.47     0.53   \n",
       "           81            ATL                 5.21   0.26   0.62     1.25   \n",
       "           82            ATL                 4.88  -0.96   0.99     0.67   \n",
       "\n",
       "                                    plate_z  spin_axis  release_extension  \\\n",
       "game_date  at_bat_number home_team                                          \n",
       "2024-03-20 2             SD            2.82      264.0                5.8   \n",
       "           3             SD            2.22      253.0                6.0   \n",
       "           4             SD            2.37      193.0                6.2   \n",
       "           5             SD            2.66      181.0                8.0   \n",
       "           6             SD            3.69      181.0                7.4   \n",
       "...                                     ...        ...                ...   \n",
       "2024-09-30 78            ATL           0.75       45.0                5.9   \n",
       "           79            ATL           2.93      233.0                7.5   \n",
       "           80            ATL           1.73      215.0                7.2   \n",
       "           81            ATL           2.22      204.0                7.4   \n",
       "           82            ATL           3.00      232.0                7.6   \n",
       "\n",
       "                                    estimated_woba_using_speedangle_zone_avg  \\\n",
       "game_date  at_bat_number home_team                                             \n",
       "2024-03-20 2             SD                                         0.590800   \n",
       "           3             SD                                         0.259087   \n",
       "           4             SD                                         0.334046   \n",
       "           5             SD                                         0.264861   \n",
       "           6             SD                                         0.504430   \n",
       "...                                                                      ...   \n",
       "2024-09-30 78            ATL                                        0.000000   \n",
       "           79            ATL                                        0.335208   \n",
       "           80            ATL                                        0.878000   \n",
       "           81            ATL                                        0.158533   \n",
       "           82            ATL                                        0.338163   \n",
       "\n",
       "                                    cluster_label  n_thruorder_pitcher  \\\n",
       "game_date  at_bat_number home_team                                       \n",
       "2024-03-20 2             SD                   1.0                    1   \n",
       "           3             SD                   1.0                    1   \n",
       "           4             SD                   0.0                    1   \n",
       "           5             SD                   0.0                    1   \n",
       "           6             SD                   0.0                    1   \n",
       "...                                           ...                  ...   \n",
       "2024-09-30 78            ATL                  2.0                    1   \n",
       "           79            ATL                  0.0                    1   \n",
       "           80            ATL                  0.0                    1   \n",
       "           81            ATL                  0.0                    1   \n",
       "           82            ATL                  0.0                    1   \n",
       "\n",
       "                                    estimated_woba_using_speedangle  \\\n",
       "game_date  at_bat_number home_team                                    \n",
       "2024-03-20 2             SD                                   0.059   \n",
       "           3             SD                                   0.000   \n",
       "           4             SD                                   0.034   \n",
       "           5             SD                                   0.008   \n",
       "           6             SD                                   0.092   \n",
       "...                                                             ...   \n",
       "2024-09-30 78            ATL                                  0.000   \n",
       "           79            ATL                                  0.039   \n",
       "           80            ATL                                  0.878   \n",
       "           81            ATL                                  0.000   \n",
       "           82            ATL                                  0.052   \n",
       "\n",
       "                                                description  launch_angle  \n",
       "game_date  at_bat_number home_team                                         \n",
       "2024-03-20 2             SD                   hit_into_play         -13.0  \n",
       "           3             SD                   called_strike           NaN  \n",
       "           4             SD                   hit_into_play          33.0  \n",
       "           5             SD                   hit_into_play          60.0  \n",
       "           6             SD                   hit_into_play         -31.0  \n",
       "...                                                     ...           ...  \n",
       "2024-09-30 78            ATL        swinging_strike_blocked          54.0  \n",
       "           79            ATL                  hit_into_play          58.0  \n",
       "           80            ATL                  hit_into_play          21.0  \n",
       "           81            ATL                swinging_strike         -23.0  \n",
       "           82            ATL                  hit_into_play         -30.0  \n",
       "\n",
       "[161846 rows x 15 columns]"
      ]
     },
     "execution_count": 12,
     "metadata": {},
     "output_type": "execute_result"
    }
   ],
   "source": [
    "# Group by the specified columns\n",
    "grouped = pitch_data_cleaned_filtered.groupby(['game_date', 'at_bat_number', 'home_team'])\n",
    "# Sort by pitch number min->max\n",
    "\n",
    "grouped.first()"
   ]
  },
  {
   "cell_type": "code",
   "execution_count": 13,
   "metadata": {},
   "outputs": [],
   "source": [
    "# Removing groups where none of the rows have a estimated woba using speedangle\n",
    "filtered_grouped = grouped.filter(lambda group: group['estimated_woba_using_speedangle'].notna().any())\n",
    "grouped = filtered_grouped.groupby(['game_date', 'at_bat_number', 'home_team'])"
   ]
  },
  {
   "cell_type": "code",
   "execution_count": 14,
   "metadata": {},
   "outputs": [],
   "source": [
    "# Removing groups where none of the rows have 'hit_into_play' in 'description' column\n",
    "filtered_grouped = grouped.filter(lambda group: (group['description'] == 'hit_into_play').any())\n",
    "grouped = filtered_grouped.groupby(['game_date', 'at_bat_number', 'home_team'])"
   ]
  },
  {
   "attachments": {},
   "cell_type": "markdown",
   "metadata": {},
   "source": [
    "Notice that all of the below have a description of 'hit_into_play'"
   ]
  },
  {
   "cell_type": "code",
   "execution_count": 15,
   "metadata": {},
   "outputs": [
    {
     "data": {
      "text/plain": [
       "game_date   at_bat_number  home_team\n",
       "2024-03-20  2              SD           hit_into_play\n",
       "            4              SD           hit_into_play\n",
       "            5              SD           hit_into_play\n",
       "            6              SD           hit_into_play\n",
       "            8              SD           hit_into_play\n",
       "                                            ...      \n",
       "2024-09-30  76             ATL          hit_into_play\n",
       "            77             ATL          hit_into_play\n",
       "            79             ATL          hit_into_play\n",
       "            80             ATL          hit_into_play\n",
       "            82             ATL          hit_into_play\n",
       "Name: description, Length: 109608, dtype: object"
      ]
     },
     "execution_count": 15,
     "metadata": {},
     "output_type": "execute_result"
    }
   ],
   "source": [
    "grouped.first()['description']"
   ]
  },
  {
   "cell_type": "code",
   "execution_count": 16,
   "metadata": {},
   "outputs": [],
   "source": [
    "features = ['release_speed', 'release_pos_x', 'release_pos_z', 'pfx_x', 'pfx_z', 'plate_x', 'plate_z', 'spin_axis',\n",
    "            'release_extension', 'estimated_woba_using_speedangle_zone_avg', 'cluster_label', 'n_thruorder_pitcher']\n",
    "target = 'estimated_woba_using_speedangle'"
   ]
  },
  {
   "attachments": {},
   "cell_type": "markdown",
   "metadata": {},
   "source": [
    "### Targets"
   ]
  },
  {
   "cell_type": "code",
   "execution_count": 17,
   "metadata": {},
   "outputs": [
    {
     "data": {
      "text/plain": [
       "(109608,)"
      ]
     },
     "execution_count": 17,
     "metadata": {},
     "output_type": "execute_result"
    }
   ],
   "source": [
    "ys = grouped.first()[target].to_numpy(dtype='float32')\n",
    "ys.shape"
   ]
  },
  {
   "attachments": {},
   "cell_type": "markdown",
   "metadata": {},
   "source": [
    "### Features"
   ]
  },
  {
   "cell_type": "code",
   "execution_count": 18,
   "metadata": {},
   "outputs": [
    {
     "data": {
      "text/plain": [
       "(109608,)"
      ]
     },
     "execution_count": 18,
     "metadata": {},
     "output_type": "execute_result"
    }
   ],
   "source": [
    "grouped_features = grouped[features]\n",
    "# Get features into one array\n",
    "X_tuple = np.array(np.array([g[1].to_numpy(dtype='float32') for g in grouped_features], dtype=\"object\"), dtype=\"object\")\n",
    "X_tuple.shape"
   ]
  },
  {
   "cell_type": "code",
   "execution_count": 19,
   "metadata": {},
   "outputs": [
    {
     "data": {
      "text/plain": [
       "(4, 12)"
      ]
     },
     "execution_count": 19,
     "metadata": {},
     "output_type": "execute_result"
    }
   ],
   "source": [
    "X_tuple[0].shape"
   ]
  },
  {
   "cell_type": "code",
   "execution_count": null,
   "metadata": {},
   "outputs": [],
   "source": []
  },
  {
   "cell_type": "code",
   "execution_count": null,
   "metadata": {},
   "outputs": [],
   "source": []
  },
  {
   "cell_type": "code",
   "execution_count": null,
   "metadata": {},
   "outputs": [],
   "source": []
  },
  {
   "attachments": {},
   "cell_type": "markdown",
   "metadata": {},
   "source": [
    "## Modeling"
   ]
  },
  {
   "cell_type": "code",
   "execution_count": 20,
   "metadata": {},
   "outputs": [],
   "source": [
    "import math\n",
    "import matplotlib.pyplot as plt\n",
    "import numpy as np\n",
    "import torch\n",
    "import torch.nn as nn\n",
    "import torch.optim as optim\n",
    "from torch.nn import functional as F\n",
    "from dataclasses import dataclass\n",
    "from torch.utils.data import DataLoader, Dataset, TensorDataset\n",
    "from tqdm import tqdm"
   ]
  },
  {
   "cell_type": "code",
   "execution_count": 21,
   "metadata": {},
   "outputs": [],
   "source": [
    "DEVICE = torch.device(\"mps\" if torch.backends.mps.is_built() else \"cpu\")"
   ]
  },
  {
   "cell_type": "code",
   "execution_count": 22,
   "metadata": {},
   "outputs": [
    {
     "name": "stdout",
     "output_type": "stream",
     "text": [
      "In features (12,)\n"
     ]
    }
   ],
   "source": [
    "print(\"In features\", X_tuple[0][0].shape)"
   ]
  },
  {
   "cell_type": "code",
   "execution_count": 23,
   "metadata": {},
   "outputs": [
    {
     "name": "stdout",
     "output_type": "stream",
     "text": [
      "Input shape (40000, 12) Output shape (40000,)\n"
     ]
    }
   ],
   "source": [
    "# just get the last pitch for this test\n",
    "input_vals = np.array([t[0] for t in X_tuple])\n",
    "# Convert Nan to 0\n",
    "input_vals = np.nan_to_num(input_vals, nan=-1)[0:40000]\n",
    "target_vals = np.nan_to_num(ys, nan=-1)[0:40000]\n",
    "print(\"Input shape\", input_vals.shape, \"Output shape\", target_vals.shape)\n",
    "\n",
    "# Standardize the data\n",
    "from sklearn import preprocessing\n",
    "scaler = preprocessing.StandardScaler().fit(input_vals)\n",
    "input_vals = scaler.transform(input_vals)\n",
    "#scaler = preprocessing.StandardScaler().fit(target_vals)\n",
    "#target_vals = scaler.transform(target_vals)"
   ]
  },
  {
   "attachments": {},
   "cell_type": "markdown",
   "metadata": {},
   "source": [
    "#### Simple Linear model"
   ]
  },
  {
   "cell_type": "code",
   "execution_count": 24,
   "metadata": {},
   "outputs": [],
   "source": [
    "# Convert to tensor\n",
    "X_tensor = torch.tensor(input_vals, dtype=torch.float32)\n",
    "target_tensor = torch.tensor(target_vals, dtype=torch.float32)\n",
    "\n",
    "# Create dataset and dataloader\n",
    "dataset = TensorDataset(X_tensor, target_tensor)\n",
    "dataloader = DataLoader(dataset, batch_size=32, shuffle=True)"
   ]
  },
  {
   "cell_type": "code",
   "execution_count": 25,
   "metadata": {},
   "outputs": [],
   "source": [
    "from torch.nn import Linear, ReLU, Sequential\n",
    "\n",
    "class SimpleNet(torch.nn.Module):\n",
    "    def __init__(self):\n",
    "        super().__init__()\n",
    "        self.relu = ReLU()\n",
    "        self.layer1 = Linear(12, 1)  # in features x out features\n",
    "\n",
    "    def forward(self, x):\n",
    "        x = self.relu(self.layer1(x))\n",
    "\n",
    "        return x\n"
   ]
  },
  {
   "cell_type": "code",
   "execution_count": 26,
   "metadata": {},
   "outputs": [
    {
     "name": "stdout",
     "output_type": "stream",
     "text": [
      "Epoch 0, Loss: 0.1353\n",
      "Epoch 5, Loss: 0.1312\n",
      "Epoch 10, Loss: 0.1313\n",
      "Epoch 15, Loss: 0.1311\n",
      "Epoch 19, Loss: 0.1311\n"
     ]
    },
    {
     "data": {
      "image/png": "[encoded data removed]",
      "text/plain": [
       "<Figure size 640x480 with 1 Axes>"
      ]
     },
     "metadata": {},
     "output_type": "display_data"
    }
   ],
   "source": [
    "from torch.optim import Adam\n",
    "\n",
    "net = SimpleNet().to(DEVICE)\n",
    "\n",
    "# Optimizer and loss\n",
    "optimizer = Adam(net.parameters(), lr=0.005)\n",
    "loss_func = nn.MSELoss()\n",
    "\n",
    "# Training\n",
    "log = []\n",
    "net.train()\n",
    "for epoch in range(20):\n",
    "    epoch_loss = 0\n",
    "    for x_batch, y_batch in dataloader:\n",
    "        x_batch, y_batch = x_batch.to(DEVICE), y_batch.to(DEVICE)\n",
    "\n",
    "        # Forward pass\n",
    "        y_hat = net(x_batch).squeeze()\n",
    "\n",
    "        # Calculate loss\n",
    "        loss = loss_func(y_hat, y_batch)\n",
    "        epoch_loss += loss.item()\n",
    "\n",
    "        # Backwards\n",
    "        net.zero_grad()\n",
    "        loss.backward()\n",
    "        optimizer.step()\n",
    "\n",
    "    # Get average loss over batches\n",
    "    avg_loss = epoch_loss / len(dataloader)\n",
    "    log.append(avg_loss)\n",
    "\n",
    "    if epoch % 5 == 0:\n",
    "        print(f\"Epoch {epoch}, Loss: {avg_loss:.4f}\")\n",
    "print(f\"Epoch {epoch}, Loss: {avg_loss:.4f}\")\n",
    "\n",
    "# Plot loss over time\n",
    "plt.ylabel('Loss')\n",
    "plt.xlabel('Epoch')\n",
    "plt.plot(log)\n",
    "plt.show()"
   ]
  },
  {
   "cell_type": "code",
   "execution_count": null,
   "metadata": {},
   "outputs": [],
   "source": []
  },
  {
   "attachments": {},
   "cell_type": "markdown",
   "metadata": {},
   "source": [
    "#### Simple RNN"
   ]
  },
  {
   "cell_type": "code",
   "execution_count": 27,
   "metadata": {},
   "outputs": [],
   "source": [
    "DEVICE = torch.device(\"mps\" if torch.backends.mps.is_built() else \"cpu\")"
   ]
  },
  {
   "cell_type": "code",
   "execution_count": 28,
   "metadata": {},
   "outputs": [
    {
     "name": "stdout",
     "output_type": "stream",
     "text": [
      "Input shape (109608,) Output shape (109608,)\n"
     ]
    },
    {
     "name": "stderr",
     "output_type": "stream",
     "text": [
      "100%|██████████| 109608/109608 [00:18<00:00, 6018.13it/s]\n"
     ]
    }
   ],
   "source": [
    "input_vals = np.array(X_tuple)\n",
    "print(\"Input shape\", input_vals.shape, \"Output shape\", ys.shape)\n",
    "\n",
    "# Standardize the data\n",
    "from sklearn import preprocessing\n",
    "for i in tqdm(range(len(input_vals))):\n",
    "    rows = input_vals[i]\n",
    "    rows = rows[::-1]  # reverse so that the final pitch is the last row in the dataset\n",
    "    rows = np.nan_to_num(rows, nan=-1)\n",
    "    scaler = preprocessing.StandardScaler().fit(rows)\n",
    "    rows = scaler.transform(rows)\n",
    "    #rows = torch.tensor(rows, dtype=torch.float32)\n",
    "    input_vals[i] = rows"
   ]
  },
  {
   "cell_type": "code",
   "execution_count": 29,
   "metadata": {},
   "outputs": [],
   "source": [
    "from torch.nn.utils.rnn import pad_sequence\n",
    "\n",
    "# Convert the list of numpy arrays to a list of tensors\n",
    "at_bat_tensors = [torch.tensor(at_bat, dtype=torch.float32) for at_bat in input_vals]\n",
    "\n",
    "# Pad the sequences - (batch_size, max_sequence_length, 12)\n",
    "padded_at_bats = pad_sequence(at_bat_tensors, batch_first=True, padding_value=0)  # padding_value=0 for zero padding"
   ]
  },
  {
   "cell_type": "code",
   "execution_count": 30,
   "metadata": {},
   "outputs": [],
   "source": [
    "from torch.utils.data import random_split\n",
    "from sklearn.model_selection import train_test_split\n",
    "\n",
    "class BaseballDataset(Dataset):\n",
    "    def __init__(self, at_bats, targets):\n",
    "        self.at_bats = at_bats\n",
    "        self.targets = torch.tensor(targets, dtype=torch.float32)  # Convert target values to tensor\n",
    "\n",
    "    def __len__(self):\n",
    "        return len(self.at_bats)\n",
    "\n",
    "    def __getitem__(self, idx):\n",
    "        # Return the at-bat sequence and the corresponding target value\n",
    "        return self.at_bats[idx], self.targets[idx]\n",
    "\n",
    "\n",
    "\n",
    "# Create Dataset\n",
    "dataset = BaseballDataset(padded_at_bats, ys)\n",
    "# Split into test and train data\n",
    "train_size = int(0.8 * len(dataset))\n",
    "test_size = len(dataset) - train_size\n",
    "train_dataset, test_dataset = random_split(dataset, [train_size, test_size])\n",
    "# Turn into Dataloaders\n",
    "dataloader = DataLoader(train_dataset, batch_size=32, shuffle=True)\n",
    "test_dataloader = DataLoader(train_dataset, batch_size=32, shuffle=True)"
   ]
  },
  {
   "cell_type": "code",
   "execution_count": 31,
   "metadata": {},
   "outputs": [],
   "source": [
    "class BaseballRNN1(torch.nn.Module):\n",
    "    def __init__(self, input_size, hidden_size, output_size):\n",
    "        super(BaseballRNN1, self).__init__()\n",
    "\n",
    "        self.lstm = torch.nn.LSTM(input_size, hidden_size, batch_first=True)\n",
    "        self.fc1 = torch.nn.Linear(hidden_size, hidden_size)\n",
    "        self.fc2 = torch.nn.Linear(hidden_size, output_size)\n",
    "\n",
    "        self.relu = nn.ReLU()\n",
    "        self.dropout = nn.Dropout(0.25)\n",
    "        self.bn1 = nn.BatchNorm1d(hidden_size)\n",
    "\n",
    "    def forward(self, x):\n",
    "        # Pass through LSTM\n",
    "        out, _ = self.lstm(x)\n",
    "\n",
    "        # Take the output of the last time step\n",
    "        y = out[:, -1, :]\n",
    "        \n",
    "        # Pass through a fully connected layer\n",
    "        y = self.relu(self.fc1(y))\n",
    "        y = self.bn1(y)\n",
    "        y = self.dropout(y)\n",
    "\n",
    "        y = self.fc2(y)\n",
    "\n",
    "        return y"
   ]
  },
  {
   "cell_type": "code",
   "execution_count": 32,
   "metadata": {},
   "outputs": [],
   "source": [
    "class BaseballRNN2(torch.nn.Module):\n",
    "    def __init__(self, input_size, hidden_size, output_size):\n",
    "        super(BaseballRNN2, self).__init__()\n",
    "\n",
    "        self.lstm = torch.nn.LSTM(input_size, hidden_size, batch_first=True)\n",
    "        self.fc1 = torch.nn.Linear(hidden_size, output_size)\n",
    "\n",
    "        self.relu = nn.ReLU()\n",
    "        self.bn1 = nn.BatchNorm1d(hidden_size)\n",
    "\n",
    "    def forward(self, x):\n",
    "        # Pass through LSTM\n",
    "        out, _ = self.lstm(x)\n",
    "\n",
    "        # Take the output of the last time step\n",
    "        y = out[:, -1, :]  # (batch, seq, )\n",
    "        \n",
    "        # Pass through a fully connected layer\n",
    "        y = self.relu(self.fc1(self.bn1(y)))\n",
    "\n",
    "        return y"
   ]
  },
  {
   "cell_type": "code",
   "execution_count": 33,
   "metadata": {},
   "outputs": [
    {
     "name": "stdout",
     "output_type": "stream",
     "text": [
      "Epoch 0, Train Loss: 0.1480, Test Loss: 0.1472\n",
      "Epoch 5, Train Loss: 0.1441, Test Loss: 0.1493\n",
      "Epoch 10, Train Loss: 0.1422, Test Loss: 0.1414\n",
      "Epoch 15, Train Loss: 0.1372, Test Loss: 0.1340\n",
      "Epoch 20, Train Loss: 0.1309, Test Loss: 0.1283\n"
     ]
    }
   ],
   "source": [
    "# Initialize the model and move it to the appropriate device\n",
    "model = BaseballRNN2(input_size=12, hidden_size=64, output_size=1).to(DEVICE)\n",
    "\n",
    "# Define the loss function and optimizer\n",
    "criterion = torch.nn.MSELoss()\n",
    "optimizer = torch.optim.Adam(model.parameters(), lr=0.001)\n",
    "\n",
    "# Training loop\n",
    "num_epochs = 20\n",
    "log = []\n",
    "test_log = []\n",
    "\n",
    "\n",
    "# Training loop\n",
    "for epoch in range(num_epochs):\n",
    "    epoch_loss = 0\n",
    "    model.train()\n",
    "    for inputs, targets in dataloader:\n",
    "        inputs, targets = inputs.to(DEVICE), targets.to(DEVICE)  # Move inputs and targets to DEVICE\n",
    "        # Zero the gradients\n",
    "        optimizer.zero_grad()\n",
    "        # Forward pass\n",
    "        outputs = model(inputs).squeeze()\n",
    "        # Calculate and log loss\n",
    "        loss = criterion(outputs, targets)\n",
    "        epoch_loss += loss.item()\n",
    "        # Backwards pass and step\n",
    "        loss.backward()\n",
    "        optimizer.step()\n",
    "\n",
    "    # Get average loss over batches for training\n",
    "    avg_train_loss = epoch_loss / len(dataloader)\n",
    "    log.append(avg_train_loss)\n",
    "\n",
    "    # Testing loop\n",
    "    model.eval()\n",
    "    with torch.no_grad():  # Disable gradients for evaluation\n",
    "        test_loss = 0\n",
    "        for inputs, targets in test_dataloader:\n",
    "            inputs, targets = inputs.to(DEVICE), targets.to(DEVICE)  # Ensure test inputs are on the same device\n",
    "            outputs = model(inputs).squeeze()\n",
    "            loss = criterion(outputs, targets)\n",
    "            test_loss += loss.item()\n",
    "\n",
    "        # Log average test loss\n",
    "        avg_test_loss = test_loss / len(test_dataloader)\n",
    "        test_log.append(avg_test_loss)\n",
    "\n",
    "    # Print loss every 5 epochs\n",
    "    if epoch % 5 == 0:\n",
    "        print(f\"Epoch {epoch}, Train Loss: {avg_train_loss:.4f}, Test Loss: {avg_test_loss:.4f}\")\n",
    "\n",
    "\n",
    "# Final output\n",
    "print(f\"Epoch {epoch+1}, Train Loss: {avg_train_loss:.4f}, Test Loss: {avg_test_loss:.4f}\")\n"
   ]
  },
  {
   "cell_type": "code",
   "execution_count": 34,
   "metadata": {},
   "outputs": [
    {
     "data": {
      "image/png": "[encoded data removed]",
      "text/plain": [
       "<Figure size 700x500 with 1 Axes>"
      ]
     },
     "metadata": {},
     "output_type": "display_data"
    }
   ],
   "source": [
    "# Plot loss over time\n",
    "plt.figure(figsize=(7, 5))\n",
    "\n",
    "plt.ylabel('Loss')\n",
    "plt.xlabel('Epoch')\n",
    "plt.plot(log, label='Train Loss')\n",
    "plt.plot(test_log, label='Test Loss', color='orange')\n",
    "plt.legend()\n",
    "\n",
    "plt.show()"
   ]
  }
 ],
 "metadata": {
  "kernelspec": {
   "display_name": "Python 3",
   "language": "python",
   "name": "python3"
  },
  "language_info": {
   "codemirror_mode": {
    "name": "ipython",
    "version": 3
   },
   "file_extension": ".py",
   "mimetype": "text/x-python",
   "name": "python",
   "nbconvert_exporter": "python",
   "pygments_lexer": "ipython3",
   "version": "3.10.6"
  },
  "orig_nbformat": 4
 },
 "nbformat": 4,
 "nbformat_minor": 2
}
