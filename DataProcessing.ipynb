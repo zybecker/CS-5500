{
 "cells": [
  {
   "cell_type": "code",
   "execution_count": 96,
   "metadata": {},
   "outputs": [],
   "source": [
    "import pandas as pd\n",
    "import numpy as np\n",
    "import matplotlib.pyplot as plt\n",
    "import dask.dataframe as dd"
   ]
  },
  {
   "attachments": {},
   "cell_type": "markdown",
   "metadata": {},
   "source": [
    "### Load data\n",
    "Load the datafrom CSV - 2024 data only. Of course, make sure that you have the full 2024 data csv in your local directory."
   ]
  },
  {
   "cell_type": "code",
   "execution_count": 97,
   "metadata": {},
   "outputs": [],
   "source": [
    "statcast_df_raw = pd.read_csv('statcast_2024.csv')"
   ]
  },
  {
   "attachments": {},
   "cell_type": "markdown",
   "metadata": {},
   "source": [
    "### Filtering\n",
    "Apply some basic filters: \n",
    "\n",
    "- Regular season games (game_type = ‘R’)\n",
    "- Games that aren’t a “decided”/blowout (home_score_diff < 6)\n",
    "- Remove pitchers that only have a few appearances (< 3)\n",
    "- Remove rows with NaN for pitch type\n"
   ]
  },
  {
   "cell_type": "code",
   "execution_count": 98,
   "metadata": {},
   "outputs": [],
   "source": [
    "# Regular season games\n",
    "statcast_df = statcast_df_raw[statcast_df_raw['game_type'] == 'R']\n",
    "\n",
    "# Score difference\n",
    "statcast_df = statcast_df[abs(statcast_df['home_score_diff']) < 6]\n",
    "\n",
    "# Identify pitchers with < 3 appearances\n",
    "pitcher_appearances = statcast_df.groupby(['pitcher', 'game_date']).size()\n",
    "pitcher_games = pitcher_appearances.groupby('pitcher').size()\n",
    "pitchers_with_few_games = pitcher_games[pitcher_games < 3].index\n",
    "# Filter out those pitchers\n",
    "statcast_df[~statcast_df['pitcher'].isin(pitchers_with_few_games)]\n",
    "\n",
    "\n",
    "# Filter out NaN for pitch_type\n",
    "statcast_df = statcast_df.dropna(subset=['pitch_type'])"
   ]
  },
  {
   "attachments": {},
   "cell_type": "markdown",
   "metadata": {},
   "source": [
    "Only keep relevant columns - 60 columns of potential interest"
   ]
  },
  {
   "cell_type": "code",
   "execution_count": 99,
   "metadata": {},
   "outputs": [],
   "source": [
    "cols = ['pitch_type', 'release_speed', 'release_pos_x', 'release_pos_z', 'batter', 'pitcher', 'events', 'description', 'zone', 'des', 'game_type',\n",
    "        'stand', 'p_throws', 'type', 'balls', 'strikes', 'pfx_x', 'pfx_z', 'plate_x', 'plate_z', 'on_3b', 'on_2b', 'on_1b', 'hc_x', 'hc_y',\n",
    "        'sv_id', 'vx0', 'vy0', 'vz0', 'ax', 'ay', 'az', 'sz_top', 'sz_bot', 'hit_distance_sc', 'launch_speed', 'launch_angle', 'effective_speed',\n",
    "        'release_spin_rate', 'release_extension', 'game_pk', 'release_pos_y', 'estimated_woba_using_speedangle', 'launch_speed_angle', 'at_bat_number',\n",
    "        'pitch_number', 'pitch_name', 'home_score', 'away_score', 'spin_axis', 'delta_home_win_exp', 'delta_run_exp', 'bat_speed', 'swing_length',\n",
    "        'estimated_slg_using_speedangle', 'delta_pitcher_run_exp', 'bat_win_exp', 'n_thruorder_pitcher', 'n_priorpa_thisgame_player_at_bat', 'arm_angle']\n",
    "\n",
    "statcast_df = statcast_df[cols]"
   ]
  },
  {
   "attachments": {},
   "cell_type": "markdown",
   "metadata": {},
   "source": [
    "### Encoding and Normalizing"
   ]
  },
  {
   "cell_type": "code",
   "execution_count": 100,
   "metadata": {},
   "outputs": [
    {
     "name": "stderr",
     "output_type": "stream",
     "text": [
      "/var/folders/s0/8ys2gvm954l0zln605l0tpwr0000gn/T/ipykernel_1895/3025524738.py:7: FutureWarning: Downcasting behavior in `replace` is deprecated and will be removed in a future version. To retain the old behavior, explicitly call `result.infer_objects(copy=False)`. To opt-in to the future behavior, set `pd.set_option('future.no_silent_downcasting', True)`\n",
      "  statcast_df['stand'] = statcast_df['stand'].replace({'L': 0, 'R': 1})\n",
      "/var/folders/s0/8ys2gvm954l0zln605l0tpwr0000gn/T/ipykernel_1895/3025524738.py:8: FutureWarning: Downcasting behavior in `replace` is deprecated and will be removed in a future version. To retain the old behavior, explicitly call `result.infer_objects(copy=False)`. To opt-in to the future behavior, set `pd.set_option('future.no_silent_downcasting', True)`\n",
      "  statcast_df['p_throws'] = statcast_df['p_throws'].replace({'L': 0, 'R': 1})\n"
     ]
    }
   ],
   "source": [
    "# One-hot encoded fields (pitch type, zone, and type (outcome))\n",
    "statcast_df.join(pd.get_dummies(statcast_df['pitch_type'], prefix='pitch'))  # pitch type\n",
    "statcast_df.join(pd.get_dummies(statcast_df['zone'], prefix='zone'))  # zone\n",
    "statcast_df.join(pd.get_dummies(statcast_df['type'], prefix='type'))  # type\n",
    "\n",
    "# Binary encoding (batter and pitcher handedness)\n",
    "statcast_df['stand'] = statcast_df['stand'].replace({'L': 0, 'R': 1})\n",
    "statcast_df['p_throws'] = statcast_df['p_throws'].replace({'L': 0, 'R': 1})"
   ]
  },
  {
   "attachments": {},
   "cell_type": "markdown",
   "metadata": {},
   "source": [
    "List the columns that are associated with each of the three data uses - pitch profile (clustering), pitch sequencing data, and hitter field (targets)"
   ]
  },
  {
   "cell_type": "code",
   "execution_count": 101,
   "metadata": {},
   "outputs": [],
   "source": [
    "pitch_profile = ['pitch_type', 'vx0', 'vy0', 'vz0', 'release_spin_rate', 'spin_axis', 'pfx_x', 'pfx_z', 'release_extension', 'release_pos_y']\n",
    "pitch_sequencing = ['pitch_number', 'pitch_type', 'balls', 'strikes', 'stand', 'p_throws']\n",
    "hitter_fields = ['launch_speed', 'launch_angle', 'plate_x', 'plate_z', 'sz_top', 'sz_bot']"
   ]
  },
  {
   "attachments": {},
   "cell_type": "markdown",
   "metadata": {},
   "source": [
    "Identify the numeric fields that should be normalized. Other fields are categorical or sequential data.<br>\n",
    "Pitch profile fields that aren't standardized: pitch_type <br>\n",
    "Pitch sequencing fields aren't normalized"
   ]
  },
  {
   "cell_type": "code",
   "execution_count": 102,
   "metadata": {},
   "outputs": [],
   "source": [
    "from sklearn.preprocessing import StandardScaler\n",
    "\n",
    "pitch_profile_numeric = ['vx0', 'vy0', 'vz0', 'release_spin_rate', 'spin_axis', 'pfx_x', 'pfx_z', 'release_extension', 'release_pos_y']\n",
    "hitter_fields_numeric = ['launch_speed', 'launch_angle', 'plate_x', 'plate_z',  'sz_top', 'sz_bot']\n",
    "\n",
    "# Transform pitch profile\n",
    "statcast_df[pitch_profile_numeric] = StandardScaler().fit_transform(statcast_df[pitch_profile_numeric])\n",
    "# Transform hitter fields\n",
    "statcast_df[hitter_fields_numeric] = StandardScaler().fit_transform(statcast_df[hitter_fields_numeric])"
   ]
  }
 ],
 "metadata": {
  "kernelspec": {
   "display_name": "Python 3",
   "language": "python",
   "name": "python3"
  },
  "language_info": {
   "codemirror_mode": {
    "name": "ipython",
    "version": 3
   },
   "file_extension": ".py",
   "mimetype": "text/x-python",
   "name": "python",
   "nbconvert_exporter": "python",
   "pygments_lexer": "ipython3",
   "version": "3.10.6"
  },
  "orig_nbformat": 4
 },
 "nbformat": 4,
 "nbformat_minor": 2
}
